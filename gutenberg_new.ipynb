{
 "cells": [
  {
   "cell_type": "code",
   "execution_count": 1,
   "id": "9d1528cf",
   "metadata": {},
   "outputs": [
    {
     "name": "stdout",
     "output_type": "stream",
     "text": [
      "# conda environments:\n",
      "#\n",
      "                         D:\\Users\\SP KHALID\\miniconda3\n",
      "                         E:\\Miniconda3\n",
      "base                     M:\\Spyder\n",
      "spyder-runtime           M:\\Spyder\\envs\\spyder-runtime\n",
      "                         M:\\Users\\Anaconda\\Anaconda3\n",
      "                      *  M:\\Users\\Anaconda\\Anaconda3\\envs\\h501-gutenberg\n",
      "\n"
     ]
    }
   ],
   "source": [
    "!conda env list"
   ]
  },
  {
   "cell_type": "code",
   "execution_count": 1,
   "id": "c196a641",
   "metadata": {},
   "outputs": [],
   "source": [
    "from importlib import reload\n",
    "from tt_gutenberg import authors"
   ]
  },
  {
   "cell_type": "code",
   "execution_count": 3,
   "id": "d172d6b4",
   "metadata": {},
   "outputs": [
    {
     "data": {
      "text/plain": [
       "['Grimm, Jacob Ludwig Carl',\n",
       " 'Grimm, Wilhelm Carl',\n",
       " 'Stevenson, R. L. (Robert Louis)',\n",
       " \"Wilde, Oscar Fingal O'Flahertie Wills\",\n",
       " 'Poe, Edgar Allen',\n",
       " 'Alighieri, Dante',\n",
       " 'Andersen, Hans Christian',\n",
       " 'Όμηρος',\n",
       " 'Dodgson, Charles Lutwidge',\n",
       " 'Πλάτων',\n",
       " 'Chaney, John Griffith',\n",
       " 'De Maupassant, Guy',\n",
       " 'Swift, J. (Jonathan)',\n",
       " 'Erasmus, of Rotterdam',\n",
       " 'Wells, Herbert George']"
      ]
     },
     "execution_count": 3,
     "metadata": {},
     "output_type": "execute_result"
    }
   ],
   "source": [
    "\n",
    "from tt_gutenberg.authors import *\n",
    "\n",
    "list_authors(by_languages=True, alias=True) [:15]"
   ]
  },
  {
   "cell_type": "code",
   "execution_count": 4,
   "id": "7311d845",
   "metadata": {},
   "outputs": [
    {
     "data": {
      "text/plain": [
       "['gutenberg_author_id',\n",
       " 'author',\n",
       " 'alias',\n",
       " 'birthdate',\n",
       " 'deathdate',\n",
       " 'wikipedia',\n",
       " 'aliases']"
      ]
     },
     "execution_count": 4,
     "metadata": {},
     "output_type": "execute_result"
    }
   ],
   "source": [
    "from tt_gutenberg.authors import load_authors\n",
    "load_authors().columns.tolist()"
   ]
  },
  {
   "cell_type": "code",
   "execution_count": 10,
   "id": "fbdbd992",
   "metadata": {},
   "outputs": [
    {
     "data": {
      "text/html": [
       "<div>\n",
       "<style scoped>\n",
       "    .dataframe tbody tr th:only-of-type {\n",
       "        vertical-align: middle;\n",
       "    }\n",
       "\n",
       "    .dataframe tbody tr th {\n",
       "        vertical-align: top;\n",
       "    }\n",
       "\n",
       "    .dataframe thead th {\n",
       "        text-align: right;\n",
       "    }\n",
       "</style>\n",
       "<table border=\"1\" class=\"dataframe\">\n",
       "  <thead>\n",
       "    <tr style=\"text-align: right;\">\n",
       "      <th></th>\n",
       "      <th>gutenberg_author_id</th>\n",
       "      <th>language_count</th>\n",
       "    </tr>\n",
       "  </thead>\n",
       "  <tbody>\n",
       "    <tr>\n",
       "      <th>0</th>\n",
       "      <td>1.0</td>\n",
       "      <td>1</td>\n",
       "    </tr>\n",
       "    <tr>\n",
       "      <th>1</th>\n",
       "      <td>3.0</td>\n",
       "      <td>1</td>\n",
       "    </tr>\n",
       "    <tr>\n",
       "      <th>2</th>\n",
       "      <td>4.0</td>\n",
       "      <td>1</td>\n",
       "    </tr>\n",
       "    <tr>\n",
       "      <th>3</th>\n",
       "      <td>5.0</td>\n",
       "      <td>2</td>\n",
       "    </tr>\n",
       "    <tr>\n",
       "      <th>4</th>\n",
       "      <td>7.0</td>\n",
       "      <td>6</td>\n",
       "    </tr>\n",
       "  </tbody>\n",
       "</table>\n",
       "</div>"
      ],
      "text/plain": [
       "   gutenberg_author_id  language_count\n",
       "0                  1.0               1\n",
       "1                  3.0               1\n",
       "2                  4.0               1\n",
       "3                  5.0               2\n",
       "4                  7.0               6"
      ]
     },
     "execution_count": 10,
     "metadata": {},
     "output_type": "execute_result"
    }
   ],
   "source": [
    "meta = load_metadata()\n",
    "author_count = (\n",
    "\n",
    "    meta.groupby('gutenberg_author_id')['language']\n",
    "    .nunique()\n",
    "    .reset_index(name='language_count')\n",
    ")\n",
    "author_count.head()"
   ]
  },
  {
   "cell_type": "code",
   "execution_count": 12,
   "id": "cffec8e4",
   "metadata": {},
   "outputs": [
    {
     "name": "stdout",
     "output_type": "stream",
     "text": [
      "['gutenberg_id', 'title', 'author', 'gutenberg_author_id', 'language', 'gutenberg_bookshelf', 'rights', 'has_text']\n",
      "   gutenberg_id                                              title  \\\n",
      "0             1  The Declaration of Independence of the United ...   \n",
      "1             2  The United States Bill of Rights\\r\\nThe Ten Or...   \n",
      "\n",
      "              author  gutenberg_author_id language  \\\n",
      "0  Jefferson, Thomas               1638.0       en   \n",
      "1      United States                  1.0       en   \n",
      "\n",
      "                                 gutenberg_bookshelf  \\\n",
      "0  Politics/American Revolutionary War/United Sta...   \n",
      "1  Politics/American Revolutionary War/United Sta...   \n",
      "\n",
      "                      rights  has_text  \n",
      "0  Public domain in the USA.      True  \n",
      "1  Public domain in the USA.      True  \n"
     ]
    }
   ],
   "source": [
    "from tt_gutenberg.utils import load_metadata\n",
    "\n",
    "meta = load_metadata()\n",
    "print(meta.columns.tolist())\n",
    "print(meta.head(2))"
   ]
  },
  {
   "cell_type": "code",
   "execution_count": null,
   "id": "a6b1b88d",
   "metadata": {},
   "outputs": [],
   "source": []
  },
  {
   "cell_type": "code",
   "execution_count": null,
   "id": "637baa8e",
   "metadata": {},
   "outputs": [],
   "source": []
  },
  {
   "cell_type": "code",
   "execution_count": null,
   "id": "f345959e",
   "metadata": {},
   "outputs": [],
   "source": []
  }
 ],
 "metadata": {
  "kernelspec": {
   "display_name": "h501-gutenberg",
   "language": "python",
   "name": "python3"
  },
  "language_info": {
   "codemirror_mode": {
    "name": "ipython",
    "version": 3
   },
   "file_extension": ".py",
   "mimetype": "text/x-python",
   "name": "python",
   "nbconvert_exporter": "python",
   "pygments_lexer": "ipython3",
   "version": "3.10.18"
  }
 },
 "nbformat": 4,
 "nbformat_minor": 5
}
