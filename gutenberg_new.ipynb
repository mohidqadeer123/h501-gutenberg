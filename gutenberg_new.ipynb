{
 "cells": [
  {
   "cell_type": "code",
   "execution_count": 1,
   "id": "9d1528cf",
   "metadata": {},
   "outputs": [
    {
     "name": "stdout",
     "output_type": "stream",
     "text": [
      "# conda environments:\n",
      "#\n",
      "                         D:\\Users\\SP KHALID\\miniconda3\n",
      "                         E:\\Miniconda3\n",
      "base                     M:\\Spyder\n",
      "spyder-runtime           M:\\Spyder\\envs\\spyder-runtime\n",
      "                         M:\\Users\\Anaconda\\Anaconda3\n",
      "                      *  M:\\Users\\Anaconda\\Anaconda3\\envs\\h501-gutenberg\n",
      "\n"
     ]
    }
   ],
   "source": [
    "!conda env list"
   ]
  },
  {
   "cell_type": "code",
   "execution_count": 3,
   "id": "c196a641",
   "metadata": {},
   "outputs": [],
   "source": [
    "from importlib import reload\n",
    "from tt_gutenberg import authors"
   ]
  }
 ],
 "metadata": {
  "kernelspec": {
   "display_name": "h501-gutenberg",
   "language": "python",
   "name": "python3"
  },
  "language_info": {
   "codemirror_mode": {
    "name": "ipython",
    "version": 3
   },
   "file_extension": ".py",
   "mimetype": "text/x-python",
   "name": "python",
   "nbconvert_exporter": "python",
   "pygments_lexer": "ipython3",
   "version": "3.10.18"
  }
 },
 "nbformat": 4,
 "nbformat_minor": 5
}
